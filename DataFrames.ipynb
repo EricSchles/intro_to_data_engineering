{
 "cells": [
  {
   "cell_type": "markdown",
   "metadata": {},
   "source": [
    "# An introduction to the DataFrame Data Structure\n",
    "\n",
    "Dataframes have been around for a while, I believe starting with R, as they are currently used.  There are lots of dataframes, in the R ecosystem, but surprisingly few in the Python.\n",
    "\n",
    "We'll introduce dataframes piece by piece, starting with the overall structure of a dataframe\n",
    "\n",
    "## A Naive implementation\n",
    "\n",
    "We'll build up a naive implementation of a dataframe from dictionaries with lists as values."
   ]
  },
  {
   "cell_type": "code",
   "execution_count": 15,
   "metadata": {},
   "outputs": [
    {
     "name": "stdout",
     "output_type": "stream",
     "text": [
      "+----------+---------------------+---------------------+---------------------+\n",
      "| Col Name |          A          |          B          |          C          |\n",
      "+----------+---------------------+---------------------+---------------------+\n",
      "|    0     |  0.9815802415151975 |  0.6639923657600588 |  0.4150559067922459 |\n",
      "|    1     |  0.8982960101852917 |  0.5459500167830481 | 0.15611034055984496 |\n",
      "|    2     |  0.9662552458539788 |  0.5450712225858546 |  0.7084079253562369 |\n",
      "|    3     | 0.27573151579338684 |  0.8904388710113929 |  0.8855629116530425 |\n",
      "|    4     |  0.8058782741796997 |  0.6598275465304131 | 0.20941199751687345 |\n",
      "|    5     |  0.5866684676574484 |  0.9721774362398216 |  0.7173778073156678 |\n",
      "|    6     |  0.6406917959958436 |  0.7739899479535122 |  0.6718462154970831 |\n",
      "|    7     |  0.6740708083001122 |   0.83501265368149  |  0.8159641750417831 |\n",
      "|    8     |  0.7471784497437283 | 0.35134490213762215 |  0.769034069303954  |\n",
      "|    9     |  0.7038010414515948 |  0.9254849072418516 | 0.09142672114219785 |\n",
      "+----------+---------------------+---------------------+---------------------+\n"
     ]
    }
   ],
   "source": [
    "# Built from primitives\n",
    "from collections import defaultdict\n",
    "import random\n",
    "from prettytable import PrettyTable\n",
    "\n",
    "dataframe = defaultdict(list)\n",
    "\n",
    "for column in [\"A\", \"B\", \"C\"]:\n",
    "    dataframe[column] = [random.random() \n",
    "                        for _ in range(10)]\n",
    "\n",
    "table = PrettyTable([\"Col Name\"] + list(dataframe.keys()))\n",
    "for index in range(len(dataframe[\"A\"])):\n",
    "    row = [index]\n",
    "    for column in [\"A\", \"B\", \"C\"]:\n",
    "        row.append(dataframe[column][index])\n",
    "    table.add_row(row)\n",
    "print(table)"
   ]
  },
  {
   "cell_type": "markdown",
   "metadata": {},
   "source": [
    "As you can see from this naive implementation we have a our first two primitives:\n",
    "\n",
    "* rows \n",
    "* columns\n",
    "\n",
    "These rows and columns are analogous to that of an excel spreadsheet or a database table.  The difference is dataframes are \"in memory\" data stores.\n",
    "\n",
    "Now we'll introduce slicing, first for arrays and then for matrices.  Fundamentally a dataframe is merely a matrix where the columns are named, for semantic purposes.\n",
    "\n",
    "## An Introduction to Slicing\n",
    "\n",
    "Before we can understand advanced slicing, we'll need to review regular slicing."
   ]
  },
  {
   "cell_type": "code",
   "execution_count": 43,
   "metadata": {},
   "outputs": [
    {
     "name": "stdout",
     "output_type": "stream",
     "text": [
      "First index 0.7916158970528665\n",
      "\n",
      "Last index 0.5691737251739554\n",
      "\n",
      "The reversed list [0.5691737251739554, 0.7213676621917036, 0.8339543595872136, 0.45527716184948375, 0.622606105789058, 0.2980052187130885, 0.11522601924446241, 0.09250193886597169, 0.11830669453024512, 0.7916158970528665]\n",
      "\n",
      "The first few elements [0.7916158970528665, 0.11830669453024512, 0.09250193886597169]\n",
      "\n",
      "The elements at even offsets [0.7916158970528665, 0.09250193886597169, 0.2980052187130885, 0.45527716184948375, 0.7213676621917036]\n",
      "\n",
      "Every third element [0.7916158970528665, 0.11522601924446241, 0.45527716184948375, 0.5691737251739554]\n"
     ]
    }
   ],
   "source": [
    "import random\n",
    "listing = [random.random() for _ in range(10)]\n",
    "\n",
    "# Selecting the first element\n",
    "print(\"First index\", listing[0])\n",
    "\n",
    "print()\n",
    "\n",
    "# Selecting the last element\n",
    "print(\"Last index\", listing[-1])\n",
    "\n",
    "print()\n",
    "\n",
    "# Reversing the list\n",
    "print(\"The reversed list\", listing[::-1])\n",
    "\n",
    "print()\n",
    "\n",
    "# Selecting the first 3 elements\n",
    "print(\"The first few elements\", listing[0:3])\n",
    "\n",
    "print()\n",
    "\n",
    "# Selecting all the elements at even indexes\n",
    "print(\"The elements at even offsets\", listing[::2])\n",
    "\n",
    "print()\n",
    "\n",
    "# Selecting every third element\n",
    "print(\"Every third element\", listing[::3])"
   ]
  },
  {
   "cell_type": "markdown",
   "metadata": {},
   "source": [
    "## An Introduction to Advanced Slicing\n",
    "\n",
    "Now that we've seen an introduction to slicing, let's move onto numpy slicing, which is far more advanced.  It's also the same slicing that pandas dataframe's use."
   ]
  },
  {
   "cell_type": "code",
   "execution_count": 49,
   "metadata": {},
   "outputs": [
    {
     "name": "stdout",
     "output_type": "stream",
     "text": [
      "First element 0.6240969508813186\n",
      "\n",
      "Reversed list [0.94434009 0.02207917 0.7003305  0.76394935 0.9425563  0.26801212\n",
      " 0.85224238 0.41886283 0.91837224 0.62409695]\n",
      "\n",
      "First few elements [0.62409695 0.91837224 0.41886283]\n"
     ]
    }
   ],
   "source": [
    "import numpy as np\n",
    "\n",
    "listing = np.random.rand(10)\n",
    "\n",
    "# Selecting first element\n",
    "print(\"First element\", listing[0])\n",
    "\n",
    "print()\n",
    "\n",
    "# Reversing the list\n",
    "print(\"Reversed list\", listing[::-1])\n",
    "\n",
    "print()\n",
    "\n",
    "# Getting the first few elements\n",
    "print(\"First few elements\", listing[:3])"
   ]
  },
  {
   "cell_type": "markdown",
   "metadata": {},
   "source": [
    "As you can numpy arrays support all the basic functions a builtin python list supports.  But it also deals well with multi-dimensional arrays:"
   ]
  },
  {
   "cell_type": "code",
   "execution_count": 58,
   "metadata": {},
   "outputs": [
    {
     "name": "stdout",
     "output_type": "stream",
     "text": [
      "First element 0.6601583587726582\n",
      "\n",
      "First few elements [0.66015836 0.88787503 0.70087991]\n",
      "\n",
      "Reversing the first row [0.00143466 0.3519615  0.27606834 0.66395007 0.15528332 0.52608354\n",
      " 0.81092874 0.02186712 0.61935367 0.66015836]\n",
      "\n",
      "Reversing the tensor [[0.85694557 0.50646455 0.17699702 0.30929738 0.60297545 0.93087336\n",
      "  0.66829771 0.7273428  0.24125466 0.00143466]\n",
      " [0.9521811  0.43468107 0.94722499 0.2075009  0.97813676 0.05974539\n",
      "  0.3879473  0.18905489 0.6598998  0.3519615 ]\n",
      " [0.85036124 0.86061632 0.46177964 0.72705882 0.09075407 0.13491748\n",
      "  0.9627146  0.87786067 0.70111903 0.27606834]\n",
      " [0.08289707 0.19962095 0.58755316 0.51956677 0.85507605 0.50793696\n",
      "  0.5693193  0.50711952 0.78148824 0.66395007]\n",
      " [0.45511725 0.61644199 0.87466013 0.62945482 0.39404126 0.98908835\n",
      "  0.90497992 0.11440851 0.76904577 0.15528332]\n",
      " [0.07576779 0.84627586 0.14914789 0.6273588  0.6106119  0.64513274\n",
      "  0.05258538 0.05157902 0.79901776 0.52608354]\n",
      " [0.09249271 0.26937426 0.15255123 0.44025906 0.05046224 0.71077385\n",
      "  0.35100979 0.29087704 0.96120702 0.81092874]\n",
      " [0.2866617  0.57594156 0.86663744 0.44043088 0.34151498 0.16224743\n",
      "  0.22283186 0.18086286 0.75522914 0.02186712]\n",
      " [0.84906334 0.2221542  0.58591591 0.76671719 0.26831014 0.01023424\n",
      "  0.58300797 0.90119235 0.43362909 0.61935367]\n",
      " [0.82573451 0.26402804 0.15428655 0.05751344 0.56627154 0.70063057\n",
      "  0.08028512 0.70087991 0.88787503 0.66015836]]\n"
     ]
    }
   ],
   "source": [
    "tensor = np.random.rand(10, 10)\n",
    "\n",
    "# Selecting first element\n",
    "print(\"First element\", tensor[0, 0])\n",
    "\n",
    "print()\n",
    "\n",
    "# Selecting the first few elements\n",
    "print(\"First few elements\", tensor[0, 0:3])\n",
    "\n",
    "print()\n",
    "\n",
    "# Reversing the first row\n",
    "print(\"Reversing the first row\", tensor[::-1, 0])\n",
    "\n",
    "print()\n",
    "\n",
    "# Reversing the entire tensor\n",
    "print(\"Reversing the tensor\", tensor[::-1, ::-1])"
   ]
  },
  {
   "cell_type": "markdown",
   "metadata": {},
   "source": [
    "Now that we understand multi-indexing works, let's move onto the main work horse of dataframes, broadcasting.\n",
    "\n",
    "## Broadcasting\n",
    "\n",
    "Numpy and pandas dataframe data structures are _incredibly_ fast.  This is because they take advantage of a lot of C code and a kind of programming called broadcast.\n",
    "\n",
    "Put simply - this means that the looping over elements occurs in C rather than in Python.  Therefore we are able to get C level iteration speeds.  Meaning, when we use numpy arrays or pandas dataframe, we actually get _C level performance in Python_.  \n",
    "\n",
    "### For - loops\n",
    "\n",
    "Not all for loops can be expressed through broadcasting.  Instead because of the syntactic similarity to array slicing, only simple or primitive for loops can be expressed.  Specifically:\n",
    "\n",
    "* loops that transform all the elements of a column or columns\n",
    "* loops that filter down the data structure to a specific subset \n",
    "\n",
    "It's worth noting that filtering is expressed via slicing, while transformations are expressed via method calls. However both make use of broadcasting to do the computation."
   ]
  },
  {
   "cell_type": "code",
   "execution_count": 83,
   "metadata": {},
   "outputs": [
    {
     "name": "stdout",
     "output_type": "stream",
     "text": [
      "All elements in the tensor less than 0.1 [0.06534567 0.04042085 0.04911574 0.05536978 0.04123728 0.01482627\n",
      " 0.08344982 0.0756749  0.02506227]\n",
      "\n",
      "Multiplying two tensors [[1.58275377e-01 6.63622410e-02 5.66779847e-01 2.45977986e-01\n",
      "  1.78088406e-01 6.86077686e-02 1.95636305e-01 2.47245466e-01\n",
      "  2.63428948e-01 1.92707349e-01]\n",
      " [9.55546504e-01 5.09681317e-01 8.00711758e-02 2.32874162e-01\n",
      "  6.72384364e-01 1.65838925e-02 1.23901420e-01 5.76035660e-02\n",
      "  6.00990124e-01 5.17757414e-03]\n",
      " [3.33456071e-02 6.71825761e-02 7.02695860e-01 3.86201178e-02\n",
      "  7.31771625e-02 2.14030858e-02 1.69025874e-01 1.71363882e-01\n",
      "  1.78744770e-02 5.66891594e-02]\n",
      " [8.47561523e-01 3.29271988e-01 5.43994409e-01 5.63684359e-01\n",
      "  8.54528066e-02 8.25867481e-02 5.41194816e-02 9.09876805e-02\n",
      "  4.03518101e-02 1.43864444e-01]\n",
      " [7.65278042e-02 9.69540051e-02 2.72737516e-01 9.59720153e-05\n",
      "  1.79655520e-01 1.27945352e-01 3.91259060e-01 5.53385548e-02\n",
      "  2.34934309e-01 6.82280821e-01]\n",
      " [1.49319611e-02 3.68881689e-01 4.36746628e-01 1.21885587e-02\n",
      "  2.25267071e-02 5.77715616e-01 1.37703868e-01 2.76717332e-02\n",
      "  2.49944079e-01 1.52023396e-01]\n",
      " [3.99924473e-01 1.66754937e-01 1.85650811e-02 1.50994553e-02\n",
      "  1.41106378e-01 3.64314951e-01 6.44438406e-03 3.46898342e-01\n",
      "  3.26915692e-02 2.90730529e-01]\n",
      " [3.72802983e-01 4.60327976e-01 3.64336808e-01 1.42205502e-02\n",
      "  7.44753226e-03 1.45638788e-01 8.27743321e-03 3.86131462e-01\n",
      "  2.82210290e-01 6.17460096e-01]\n",
      " [9.79153282e-02 3.91730647e-02 3.41755565e-01 4.97749048e-03\n",
      "  3.55737281e-01 1.11123648e-01 4.06405682e-01 9.49883741e-02\n",
      "  3.18434082e-01 6.63955890e-02]\n",
      " [4.65871319e-03 3.90745277e-02 1.71224244e-01 6.80531734e-01\n",
      "  4.58504554e-03 1.44748695e-01 2.27652238e-01 3.19764148e-01\n",
      "  1.78272758e-01 4.42750278e-01]]\n",
      "\n",
      "Sum all the elements of a tensor row 3.9462817337149367\n",
      "\n",
      "Sum all the elements of a tensor column 5.390886719610608\n"
     ]
    }
   ],
   "source": [
    "import numpy as np\n",
    "\n",
    "tensor = np.random.rand(10, 10)\n",
    "A = np.random.rand(10, 10)\n",
    "B = np.random.rand(10, 10)\n",
    "\n",
    "# Filtering down\n",
    "print(\"All elements in the tensor less than 0.1\", tensor[tensor < 0.1])\n",
    "\n",
    "print()\n",
    "\n",
    "# Transforming\n",
    "print(\"Multiplying two tensors\", A * B)\n",
    "\n",
    "print()\n",
    "\n",
    "# summing a row\n",
    "print(\"Sum all the elements of a tensor row\", tensor[0].sum())\n",
    "\n",
    "print()\n",
    "\n",
    "# summing a column\n",
    "print(\"Sum all the elements of a tensor column\", tensor[:, 0].sum())"
   ]
  },
  {
   "cell_type": "markdown",
   "metadata": {},
   "source": [
    "Notice the last computation:\n",
    "\n",
    "`tensor[:, 0].sum()`\n",
    "\n",
    "This specific computation takes advantage of both slicing as well as other computation.  This also shows how we can select any section of an array we might like and act on that selection in a single statement.\n",
    "\n",
    "There is a clear and obvious danger with syntactic sugar like this - incredibly long and complex one liner statements throughout the Python syntax.  This could lead to encouraging opaque complex code which is hard to read or reason about because it does too much on a single line.  \n",
    "\n",
    "We'll see more of this complexity when we start working with pandas dataframes."
   ]
  },
  {
   "cell_type": "code",
   "execution_count": null,
   "metadata": {},
   "outputs": [],
   "source": []
  },
  {
   "cell_type": "markdown",
   "metadata": {},
   "source": [
    "# References\n",
    "\n",
    "* [https://ipython-books.github.io/](https://ipython-books.github.io/)\n",
    "* [https://jakevdp.github.io/PythonDataScienceHandbook/](https://jakevdp.github.io/PythonDataScienceHandbook/)"
   ]
  },
  {
   "cell_type": "code",
   "execution_count": null,
   "metadata": {},
   "outputs": [],
   "source": []
  }
 ],
 "metadata": {
  "kernelspec": {
   "display_name": "Python 3",
   "language": "python",
   "name": "python3"
  },
  "language_info": {
   "codemirror_mode": {
    "name": "ipython",
    "version": 3
   },
   "file_extension": ".py",
   "mimetype": "text/x-python",
   "name": "python",
   "nbconvert_exporter": "python",
   "pygments_lexer": "ipython3",
   "version": "3.6.3"
  }
 },
 "nbformat": 4,
 "nbformat_minor": 2
}
